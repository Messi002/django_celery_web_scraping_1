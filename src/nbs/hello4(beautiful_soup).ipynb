{
 "cells": [
  {
   "cell_type": "code",
   "execution_count": 1,
   "id": "76aa1037-09f3-46fe-8b82-fb19b8b4dcaf",
   "metadata": {},
   "outputs": [
    {
     "name": "stdout",
     "output_type": "stream",
     "text": [
      "/home/mirsquared/Documents/WorkEnv/django_web_scraping/src/nbs\n"
     ]
    }
   ],
   "source": [
    "!pwd"
   ]
  },
  {
   "cell_type": "code",
   "execution_count": 9,
   "id": "d1cfe80a-9f95-44c0-9764-434a50ced5e1",
   "metadata": {},
   "outputs": [],
   "source": [
    "import setup\n",
    "setup.init_django(project_name='mirhome')\n"
   ]
  },
  {
   "cell_type": "code",
   "execution_count": 10,
   "id": "bec87cca-cd15-4d59-911e-ca117a3960ed",
   "metadata": {},
   "outputs": [],
   "source": [
    "url = \"https://www.amazon.com/PlayStation%C2%AE5-console-slim-PlayStation-5/dp/B0CL61F39H/ref=sr_1_1?dib=eyJ2IjoiMSJ9.F-c6KBJm1tKH0t43iBScfCfEIEFn9fme4tekt5SU7EjryaAMWaw68ZfG8m3hfxXlOne3XBl9wMtDuxpR1Dh43aBybWzasNjXqd2ynwBmGft0i9lDFlGCZaPpz4QbEtxb6EQVc3yPb6F8KVifO6vGSkwV-VVnmqtRohIchqgVB1tr6luX7FCinpCGInQg1yU1vSuKnfH6nOP0ie4q8KhXVvLdPfGo3RRrPMf_0qp_wJk.v3FhmRXudDCFUMB2J4tD4vYitrMWo7gMje6bx0NjomU&dib_tag=se&keywords=playstation+5&qid=1727486113&sr=8-1\"\n"
   ]
  },
  {
   "cell_type": "code",
   "execution_count": 11,
   "id": "2abd6605-a5b2-4bd5-97f5-961bf9875070",
   "metadata": {},
   "outputs": [
    {
     "name": "stdout",
     "output_type": "stream",
     "text": [
      "/home/mirsquared/Documents/WorkEnv/django_web_scraping/src\n"
     ]
    }
   ],
   "source": [
    "!pwd"
   ]
  },
  {
   "cell_type": "code",
   "execution_count": 12,
   "id": "ccf13d27-086a-4fe9-8e06-590af841e0a4",
   "metadata": {},
   "outputs": [],
   "source": [
    "import helpers"
   ]
  },
  {
   "cell_type": "code",
   "execution_count": 13,
   "id": "ea951f9c-df20-41ed-861c-ce6a8def9f14",
   "metadata": {},
   "outputs": [
    {
     "name": "stdout",
     "output_type": "stream",
     "text": [
      "Connecting to Scraping Browser...\n",
      "Connected! Navigating to https://www.amazon.com/PlayStation%C2%AE5-console-slim-PlayStation-5/dp/B0CL61F39H/ref=sr_1_1?dib=eyJ2IjoiMSJ9.F-c6KBJm1tKH0t43iBScfCfEIEFn9fme4tekt5SU7EjryaAMWaw68ZfG8m3hfxXlOne3XBl9wMtDuxpR1Dh43aBybWzasNjXqd2ynwBmGft0i9lDFlGCZaPpz4QbEtxb6EQVc3yPb6F8KVifO6vGSkwV-VVnmqtRohIchqgVB1tr6luX7FCinpCGInQg1yU1vSuKnfH6nOP0ie4q8KhXVvLdPfGo3RRrPMf_0qp_wJk.v3FhmRXudDCFUMB2J4tD4vYitrMWo7gMje6bx0NjomU&dib_tag=se&keywords=playstation+5&qid=1727486113&sr=8-1\n",
      "Navigated! Scraping page content...\n"
     ]
    }
   ],
   "source": [
    "html = helpers.scrape(url=url)"
   ]
  },
  {
   "cell_type": "code",
   "execution_count": 14,
   "id": "8c6b67c4-faa9-44d1-bcb1-a04302c0c0f5",
   "metadata": {},
   "outputs": [],
   "source": [
    "from bs4 import BeautifulSoup"
   ]
  },
  {
   "cell_type": "code",
   "execution_count": 15,
   "id": "4286b906-0f8d-41ac-83de-4d81a628c853",
   "metadata": {},
   "outputs": [],
   "source": [
    "soup = BeautifulSoup(html)"
   ]
  },
  {
   "cell_type": "markdown",
   "id": "e297c556-4c62-4ff3-baca-e71cef56a367",
   "metadata": {},
   "source": [
    "```html\n",
    "<span id=\"productTitle\" class=\"a-size-large product-title-word-break\">\n",
    "    PlayStation®5 console (slim)\n",
    "</span>\n",
    "\n",
    "<div id=\"titleSection\" class=\"a-section a-spacing-none\">\n",
    "    <h1 id=\"title\" class=\"a-size-large a-spacing-none\">\n",
    "        <span id=\"productTitle\" class=\"a-size-large product-title-word-break\">\n",
    "            PlayStation®5 console (slim)\n",
    "        </span>\n",
    "    </h1>\n",
    "    <div id=\"expandTitleToggle\" class=\"a-section a-spacing-none expand aok-hidden\">\n",
    "    </div>\n",
    "</div>\n",
    "```"
   ]
  },
  {
   "cell_type": "code",
   "execution_count": 19,
   "id": "ab5817e2-a7a9-476b-898c-1b3447147b03",
   "metadata": {},
   "outputs": [
    {
     "data": {
      "text/plain": [
       "'PlayStation®5 console (slim)'"
      ]
     },
     "execution_count": 19,
     "metadata": {},
     "output_type": "execute_result"
    }
   ],
   "source": [
    "productTitle = soup.find('span', id=\"productTitle\")\n",
    "producTitleText = f\"{productTitle.text}\".strip()\n",
    "producTitleText"
   ]
  },
  {
   "cell_type": "code",
   "execution_count": 2,
   "id": "876ac9a4-db9c-44af-b116-d3df5b39a9e3",
   "metadata": {},
   "outputs": [],
   "source": [
    "# from products.models import Product"
   ]
  },
  {
   "cell_type": "markdown",
   "id": "6949d54d-967a-41ed-9534-b1b8e1b29791",
   "metadata": {},
   "source": [
    "```html\n",
    "<span class=\"a-price a-text-price a-size-medium apexPriceToPay\" data-a-size=\"b\" data-a-color=\"price\">\n",
    "    <span class=\"a-offscreen\">\n",
    "        $494.99\n",
    "    </span>\n",
    "    <span aria-hidden=\"true\">\n",
    "        $494.99\n",
    "    </span>\n",
    "</span>\n",
    "```"
   ]
  },
  {
   "cell_type": "code",
   "execution_count": 23,
   "id": "83c565a5-93a5-4162-892c-1be32046c78e",
   "metadata": {},
   "outputs": [
    {
     "data": {
      "text/plain": [
       "'$49.99'"
      ]
     },
     "execution_count": 23,
     "metadata": {},
     "output_type": "execute_result"
    }
   ],
   "source": [
    "productPrice = soup.find('span', class_=\"a-text-price\")\n",
    "\n",
    "# From the found element, now find the nested 'span' with the class 'a-offscreen'\n",
    "price = productPrice.find('span', class_=\"a-offscreen\")\n",
    "\n",
    "# Extract the text and strip it to remove any extra spaces\n",
    "productPriceText = price.get_text().strip()\n",
    "\n",
    "# Output the extracted price\n",
    "productPriceText"
   ]
  },
  {
   "cell_type": "markdown",
   "id": "47ad256b-ca45-4b6c-a00b-17bad10c630a",
   "metadata": {},
   "source": []
  },
  {
   "cell_type": "code",
   "execution_count": 24,
   "id": "0d816180-f560-4de2-a3e2-bc3f222002db",
   "metadata": {},
   "outputs": [
    {
     "name": "stdout",
     "output_type": "stream",
     "text": [
      "Resolution: 4K\n",
      "Wireless Communication Technology: Bluetooth, Wi-Fi\n",
      "Input Device: Gamepad\n",
      "Platform: PlayStation 5\n"
     ]
    }
   ],
   "source": [
    "# product_details_section = soup.find('div', id=\"productDetails_expanderTables_depthLeftSections\")\n",
    "\n",
    "# # Find the table within that section\n",
    "# table = product_details_section.find('table', class_=\"prodDetTable\")\n",
    "\n",
    "# # Create a dictionary to store the product details\n",
    "# product_details = {}\n",
    "\n",
    "# # Loop through all rows of the table\n",
    "# for row in table.find_all('tr'):\n",
    "#     # Get the label (in <th>) and value (in <td>) for each row\n",
    "#     label = row.find('th').get_text(strip=True)\n",
    "#     value = row.find('td').get_text(strip=True)\n",
    "    \n",
    "#     # Store in dictionary\n",
    "#     product_details[label] = value\n",
    "\n",
    "# # Print the extracted product details\n",
    "# for label, value in product_details.items():\n",
    "#     print(f\"{label}: {value}\")"
   ]
  },
  {
   "cell_type": "code",
   "execution_count": null,
   "id": "b1cea8b1-378e-4c06-b8fa-278878ff1e3d",
   "metadata": {},
   "outputs": [],
   "source": [
    "elements_with_attribute = soup.find_all(lambda tag: tag.has_attr('data-csa-c-asin'))\n",
    "asins = [x.attrs.get('data-csa-c-asin') for x in elements_with_attribute if x]\n",
    "asins = list(set([x for x in asins if x != \"\"]))\n",
    "asins"
   ]
  }
 ],
 "metadata": {
  "kernelspec": {
   "display_name": "Python 3 (ipykernel)",
   "language": "python",
   "name": "python3"
  },
  "language_info": {
   "codemirror_mode": {
    "name": "ipython",
    "version": 3
   },
   "file_extension": ".py",
   "mimetype": "text/x-python",
   "name": "python",
   "nbconvert_exporter": "python",
   "pygments_lexer": "ipython3",
   "version": "3.12.3"
  }
 },
 "nbformat": 4,
 "nbformat_minor": 5
}
