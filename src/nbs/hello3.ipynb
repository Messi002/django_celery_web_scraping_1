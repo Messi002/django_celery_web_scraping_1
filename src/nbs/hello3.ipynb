{
 "cells": [
  {
   "cell_type": "code",
   "execution_count": 1,
   "id": "76aa1037-09f3-46fe-8b82-fb19b8b4dcaf",
   "metadata": {},
   "outputs": [
    {
     "name": "stdout",
     "output_type": "stream",
     "text": [
      "/home/mirsquared/Documents/WorkEnv/django_web_scraping/src/nbs\n"
     ]
    }
   ],
   "source": [
    "!pwd"
   ]
  },
  {
   "cell_type": "code",
   "execution_count": 2,
   "id": "d1cfe80a-9f95-44c0-9764-434a50ced5e1",
   "metadata": {},
   "outputs": [],
   "source": [
    "import setup\n",
    "setup.init_django(project_name='mirhome')\n"
   ]
  },
  {
   "cell_type": "code",
   "execution_count": 3,
   "id": "bec87cca-cd15-4d59-911e-ca117a3960ed",
   "metadata": {},
   "outputs": [],
   "source": [
    "url = \"https://www.amazon.com/PlayStation%C2%AE5-console-slim-PlayStation-5/dp/B0CL61F39H/ref=sr_1_1?dib=eyJ2IjoiMSJ9.F-c6KBJm1tKH0t43iBScfCfEIEFn9fme4tekt5SU7EjryaAMWaw68ZfG8m3hfxXlOne3XBl9wMtDuxpR1Dh43aBybWzasNjXqd2ynwBmGft0i9lDFlGCZaPpz4QbEtxb6EQVc3yPb6F8KVifO6vGSkwV-VVnmqtRohIchqgVB1tr6luX7FCinpCGInQg1yU1vSuKnfH6nOP0ie4q8KhXVvLdPfGo3RRrPMf_0qp_wJk.v3FhmRXudDCFUMB2J4tD4vYitrMWo7gMje6bx0NjomU&dib_tag=se&keywords=playstation+5&qid=1727486113&sr=8-1\"\n"
   ]
  },
  {
   "cell_type": "code",
   "execution_count": 1,
   "id": "2abd6605-a5b2-4bd5-97f5-961bf9875070",
   "metadata": {},
   "outputs": [
    {
     "name": "stdout",
     "output_type": "stream",
     "text": [
      "/home/mirsquared/Documents/WorkEnv/django_web_scraping/src/nbs\n"
     ]
    }
   ],
   "source": [
    "!pwd"
   ]
  },
  {
   "cell_type": "code",
   "execution_count": 4,
   "id": "ccf13d27-086a-4fe9-8e06-590af841e0a4",
   "metadata": {},
   "outputs": [],
   "source": [
    "import helpers"
   ]
  },
  {
   "cell_type": "code",
   "execution_count": 6,
   "id": "ea951f9c-df20-41ed-861c-ce6a8def9f14",
   "metadata": {},
   "outputs": [],
   "source": [
    "helpers.scrape(url=url)"
   ]
  },
  {
   "cell_type": "code",
   "execution_count": 5,
   "id": "876ac9a4-db9c-44af-b116-d3df5b39a9e3",
   "metadata": {},
   "outputs": [],
   "source": [
    "# from products.models import Product"
   ]
  },
  {
   "cell_type": "code",
   "execution_count": null,
   "id": "4c376b6f-7dfb-425d-9006-4951942c43c1",
   "metadata": {},
   "outputs": [],
   "source": []
  }
 ],
 "metadata": {
  "kernelspec": {
   "display_name": "Python 3 (ipykernel)",
   "language": "python",
   "name": "python3"
  },
  "language_info": {
   "codemirror_mode": {
    "name": "ipython",
    "version": 3
   },
   "file_extension": ".py",
   "mimetype": "text/x-python",
   "name": "python",
   "nbconvert_exporter": "python",
   "pygments_lexer": "ipython3",
   "version": "3.12.3"
  }
 },
 "nbformat": 4,
 "nbformat_minor": 5
}
