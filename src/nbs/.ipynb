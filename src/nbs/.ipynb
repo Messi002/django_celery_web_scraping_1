{
 "cells": [
  {
   "cell_type": "code",
   "execution_count": 1,
   "id": "76aa1037-09f3-46fe-8b82-fb19b8b4dcaf",
   "metadata": {},
   "outputs": [
    {
     "name": "stdout",
     "output_type": "stream",
     "text": [
      "/home/mirsquared/Documents/WorkEnv/django_web_scraping/src/nbs\n"
     ]
    }
   ],
   "source": [
    "import setup\n",
    "setup.init_django(project_name='mirhome')"
   ]
  },
  {
   "cell_type": "code",
   "execution_count": 9,
   "id": "d1cfe80a-9f95-44c0-9764-434a50ced5e1",
   "metadata": {},
   "outputs": [],
   "source": [
    "import helpers"
   ]
  },
  {
   "cell_type": "code",
   "execution_count": 10,
   "id": "bec87cca-cd15-4d59-911e-ca117a3960ed",
   "metadata": {},
   "outputs": [],
   "source": [
    "from bs4 import BeautifulSoup"
   ]
  },
  {
   "cell_type": "code",
   "execution_count": 11,
   "id": "2abd6605-a5b2-4bd5-97f5-961bf9875070",
   "metadata": {},
   "outputs": [
    {
     "name": "stdout",
     "output_type": "stream",
     "text": [
      "/home/mirsquared/Documents/WorkEnv/django_web_scraping/src\n"
     ]
    }
   ],
   "source": [
    "url = \"https://www.amazon.com/PlayStation%C2%AE5-Digital-slim-PlayStation-5/dp/B0CL5KNB9M/ref=sr_1_3?crid=B7GWFZXZ2OED&dib=eyJ2IjoiMSJ9.kgp6If9Ie8zGHwBo-0htBLyQbbKjs5VuqpcJV5opH4mRqQT9y1GDUhgEGC4Ze5c7iOpklu5U3l_vF3hGTmGfZf8jvVY7cSGvtmhRbSth2-wUchP4cPB4bCopxZnBPpqLbX4wU-JZkepl_i4fGdXQJXUMLc256FqdCdlbjr6ZMyFHhWIJq2G38fcfQx3z9RS1e48jNXaYXv1rWtJ3Y30-OZP-ckGz15zF5vR6k6z6G6c.HDrf64xu0Nz7DYLZvUdGglWizRZpAXBxsxbsgsW26Tc&dib_tag=se&keywords=ps5&qid=1709675943&sprefix=ps5%2Caps%2C190&sr=8-3\""
   ]
  },
  {
   "cell_type": "code",
   "execution_count": 12,
   "id": "ccf13d27-086a-4fe9-8e06-590af841e0a4",
   "metadata": {},
   "outputs": [],
   "source": [
    "url"
   ]
  },
  {
   "cell_type": "code",
   "execution_count": 13,
   "id": "ea951f9c-df20-41ed-861c-ce6a8def9f14",
   "metadata": {},
   "outputs": [
    {
     "name": "stdout",
     "output_type": "stream",
     "text": [
      "Connecting to Scraping Browser...\n",
      "Connected! Navigating to https://www.amazon.com/PlayStation%C2%AE5-console-slim-PlayStation-5/dp/B0CL61F39H/ref=sr_1_1?dib=eyJ2IjoiMSJ9.F-c6KBJm1tKH0t43iBScfCfEIEFn9fme4tekt5SU7EjryaAMWaw68ZfG8m3hfxXlOne3XBl9wMtDuxpR1Dh43aBybWzasNjXqd2ynwBmGft0i9lDFlGCZaPpz4QbEtxb6EQVc3yPb6F8KVifO6vGSkwV-VVnmqtRohIchqgVB1tr6luX7FCinpCGInQg1yU1vSuKnfH6nOP0ie4q8KhXVvLdPfGo3RRrPMf_0qp_wJk.v3FhmRXudDCFUMB2J4tD4vYitrMWo7gMje6bx0NjomU&dib_tag=se&keywords=playstation+5&qid=1727486113&sr=8-1\n",
      "Navigated! Scraping page content...\n"
     ]
    }
   ],
   "source": [
    "\n",
    "\n",
    "html = helpers.scrape(url=url, solve_captcha=False)\n",
    "data = helpers.extract_amazon_product_data(html)\n",
    "\n"
   ]
  },
  {
   "cell_type": "markdown",
   "id": "a2793bd7",
   "metadata": {},
   "source": [
    "```html\n",
    "{'title': 'PlayStation®5 Digital Edition (slim)',\n",
    " 'price_raw': '449.',\n",
    " 'price_text': '449.',\n",
    " 'price': 449.0,\n",
    " 'metadata': [{'ASIN': 'B0CL5KNB9M'},\n",
    "  {'Release date': 'November 24, 2023'},\n",
    "  {'Customer Reviews': '4.7  4.7 out of 5 stars    \\n    3,538 ratings   \\n\\n\\n 4.7 out of 5 stars'},\n",
    "  {'Best Sellers Rank': '#216 in Video Games (See Top 100 in Video Games)  #2 in PlayStation 5 Consoles'},\n",
    "  {'Product Dimensions': '17 x 15 x 6 inches; 8.9 Pounds'},\n",
    "  {'Type of item': 'Video Game'},\n",
    "  {'Item model number': 'CFI-2000'},\n",
    "  {'Item Weight': '8.9 pounds'},\n",
    "  {'Manufacturer': 'Sony'},\n",
    "  {'Country of Origin': 'China'},\n",
    "  {'Batteries': '1 Lithium Ion batteries required. (included)'},\n",
    "  {'Date First Available': 'November 24, 2023'}],\n",
    " 'description': ' \\n Play Like Never Before. The PS5 Digital Edition unleashes new gaming possibilities that you never anticipated. Experience lightning fast loading with an ultra-high speed SSD, deeper immersion with support for haptic feedback, adaptive triggers, and 3D Audio*,and an all-new generation of incredible PlayStation® games. PS5 Digital Edition is an all-digital version of the PS5 console with no disc drive. Sign into your account for PlayStation Network and go to PlayStation Store to buy and download games (Account for PlayStation Network required). Lightning Speed - Harness the power of a custom CPU, GPU, and SSD with Integrated I/O that rewrite the rules of what a PlayStation console can do. Stunning Games - Marvel at incredible graphics and experience new PS5 features. Play a back catalog of supported PS4 games. Breathtaking Immersion - Discover a deeper gaming experience with support for haptic feedback, adaptive triggers, and 3D Audio technology. *3D audio via built-in TV speakers or analog/USB stereo headphones. Set up and latest system software update required.  ',\n",
    " 'feature_bullets': ' \\n About this item    Model Number CFI-2000    Includes DualSense Wireless Controller, 1TB SSD, 2 Horizontal Stand Feet, HDMI Cable, AC power cord, USB cable, printed materials, ASTRO’s PLAYROOM (Pre-installed game)    Vertical Stand sold seperately    \\n',\n",
    " 'rating': {'average': 4.7, 'count': 3538}}\n",
    "```"
   ]
  },
  {
   "cell_type": "code",
   "execution_count": 15,
   "id": "4286b906-0f8d-41ac-83de-4d81a628c853",
   "metadata": {},
   "outputs": [],
   "source": [
    "def find_product_table_data(html):\n",
    "    soup = BeautifulSoup(html)\n",
    "    product_data = soup.find('div', id='prodDetails')\n",
    "    if product_data is None:\n",
    "        return []\n",
    "    table = product_data.find('table')\n",
    "    columns = [f\"{x.text}\".strip() for x in table.find_all('th')]\n",
    "    table_data=[]\n",
    "    for i, row in enumerate(table.find_all('tr')):  # [1:] to skip the header row\n",
    "        # Get all cells in the row\n",
    "        cells = row.find_all('td')\n",
    "        # Create a dictionary for the current row, mapping header to cell data\n",
    "        row_data = {columns[i]: f'{cell.text}'.strip() for cell in cells}\n",
    "        # Add the dictionary to your list\n",
    "        table_data.append(row_data)\n",
    "    return table_data\n",
    "\n",
    "def find_product_rating(html):\n",
    "    soup = BeautifulSoup(html)\n",
    "    average_rating = soup.find(id='averageCustomerReviews').find_all(\"span\", class_='a-size-base')[0].text.strip()\n",
    "    average_rating = \"\".join([x for x in f\"{average_rating}\".strip() if x.isdigit() or x == '.'])\n",
    "    average_rating = float(average_rating)\n",
    "    rating_data = soup.find(id='acrCustomerReviewText').text\n",
    "    rating_count = int(''.join([x for x in rating_data if x.isdigit()]))\n",
    "    rating_count\n",
    "    return {\n",
    "        'average': average_rating,\n",
    "        'count': rating_count,\n",
    "    }\n",
    "\n",
    "def extract_amazon_product_data(html):\n",
    "    soup = BeautifulSoup(html)\n",
    "    productTitle = soup.find('span', id='productTitle')\n",
    "    productTitleText = f\"{productTitle.text}\".strip()\n",
    "    productPrice = soup.find_all('span', class_='a-price-whole')[0]\n",
    "    productPrice = f\"{productPrice.text}\".strip()\n",
    "    productPriceText = \"\".join([x for x in productPrice if x.isdigit() or x == '.'])\n",
    "    productPriceNum = float(productPriceText)\n",
    "    try:\n",
    "        productDescription = soup.find('div', id='productDescription').text\n",
    "    except:\n",
    "        productDescription = ''\n",
    "    featureBullets = soup.find('div', id='feature-bullets').text\n",
    "    return {\n",
    "        'title': productTitleText,\n",
    "        'price_raw': productPrice,\n",
    "        'price_text': productPriceText,\n",
    "        'price': productPriceNum,\n",
    "        'metadata': find_product_table_data(html),\n",
    "        'description': productDescription,\n",
    "        'feature_bullets': featureBullets,\n",
    "        'rating': find_product_rating(html)\n",
    "    }\n",
    "\n"
   ]
  },
  {
   "cell_type": "code",
   "execution_count": 19,
   "id": "ab5817e2-a7a9-476b-898c-1b3447147b03",
   "metadata": {},
   "outputs": [
    {
     "data": {
      "text/plain": [
       "'PlayStation®5 console (slim)'"
      ]
     },
     "execution_count": 19,
     "metadata": {},
     "output_type": "execute_result"
    }
   ],
   "source": [
    "html = helpers.scrape(url=url, solve_captcha=False)"
   ]
  },
  {
   "cell_type": "code",
   "execution_count": 2,
   "id": "876ac9a4-db9c-44af-b116-d3df5b39a9e3",
   "metadata": {},
   "outputs": [],
   "source": [
    "# with open('output.html', 'w+') as f:\n",
    "#     f.write(html)"
   ]
  },
  {
   "cell_type": "code",
   "execution_count": 23,
   "id": "83c565a5-93a5-4162-892c-1be32046c78e",
   "metadata": {},
   "outputs": [
    {
     "data": {
      "text/plain": [
       "'$49.99'"
      ]
     },
     "execution_count": 23,
     "metadata": {},
     "output_type": "execute_result"
    }
   ],
   "source": [
    "data = extract_amazon_product_data(html)\n",
    "data"
   ]
  },
  {
   "cell_type": "markdown",
   "id": "47ad256b-ca45-4b6c-a00b-17bad10c630a",
   "metadata": {},
   "source": []
  },
  {
   "cell_type": "code",
   "execution_count": null,
   "id": "b1cea8b1-378e-4c06-b8fa-278878ff1e3d",
   "metadata": {},
   "outputs": [],
   "source": []
  }
 ],
 "metadata": {
  "kernelspec": {
   "display_name": "Python 3 (ipykernel)",
   "language": "python",
   "name": "python3"
  },
  "language_info": {
   "codemirror_mode": {
    "name": "ipython",
    "version": 3
   },
   "file_extension": ".py",
   "mimetype": "text/x-python",
   "name": "python",
   "nbconvert_exporter": "python",
   "pygments_lexer": "ipython3",
   "version": "3.12.3"
  }
 },
 "nbformat": 4,
 "nbformat_minor": 5
}
