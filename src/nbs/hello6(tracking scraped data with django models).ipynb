{
 "cells": [
  {
   "cell_type": "code",
   "execution_count": 1,
   "id": "76aa1037-09f3-46fe-8b82-fb19b8b4dcaf",
   "metadata": {},
   "outputs": [
    {
     "name": "stdout",
     "output_type": "stream",
     "text": [
      "/home/mirsquared/Documents/WorkEnv/django_web_scraping/src/nbs\n"
     ]
    }
   ],
   "source": [
    "import setup\n",
    "setup.init_django(project_name='mirhome')"
   ]
  },
  {
   "cell_type": "code",
   "execution_count": 9,
   "id": "d1cfe80a-9f95-44c0-9764-434a50ced5e1",
   "metadata": {},
   "outputs": [],
   "source": [
    "import helpimport helpers\n",
    "from products.models import ProductScrapeEvent, Producters"
   ]
  },
  {
   "cell_type": "code",
   "execution_count": 10,
   "id": "bec87cca-cd15-4d59-911e-ca117a3960ed",
   "metadata": {},
   "outputs": [],
   "source": [
    "url = \"https://www.amazon.com/PlayStation%C2%AE5-Digital-slim-PlayStation-5/dp/B0CL5KNB9M/ref=sr_1_3?crid=B7GWFZXZ2OED&dib=eyJ2IjoiMSJ9.kgp6If9Ie8zGHwBo-0htBLyQbbKjs5VuqpcJV5opH4mRqQT9y1GDUhgEGC4Ze5c7iOpklu5U3l_vF3hGTmGfZf8jvVY7cSGvtmhRbSth2-wUchP4cPB4bCopxZnBPpqLbX4wU-JZkepl_i4fGdXQJXUMLc256FqdCdlbjr6ZMyFHhWIJq2G38fcfQx3z9RS1e48jNXaYXv1rWtJ3Y30-OZP-ckGz15zF5vR6k6z6G6c.HDrf64xu0Nz7DYLZvUdGglWizRZpAXBxsxbsgsW26Tc&dib_tag=se&keywords=ps5&qid=1709675943&sprefix=ps5%2Caps%2C190&sr=8-3\""
   ]
  },
  {
   "cell_type": "code",
   "execution_count": 11,
   "id": "2abd6605-a5b2-4bd5-97f5-961bf9875070",
   "metadata": {},
   "outputs": [
    {
     "name": "stdout",
     "output_type": "stream",
     "text": [
      "/home/mirsquared/Documents/WorkEnv/django_web_scraping/src\n"
     ]
    }
   ],
   "source": [
    "datahtml = helpers.scrape(url=url, solve_captcha=False)\n",
    "data = helpers.extract_amazon_product_data(html)"
   ]
  },
  {
   "cell_type": "code",
   "execution_count": 12,
   "id": "ccf13d27-086a-4fe9-8e06-590af841e0a4",
   "metadata": {},
   "outputs": [],
   "source": [
    "data"
   ]
  },
  {
   "cell_type": "markdown",
   "id": "a354cb92",
   "metadata": {},
   "source": [
    "```html\n",
    "{'asin': 'B0CL5KNB9M',\n",
    " 'title': 'PlayStation®5 Digital Edition (slim)',\n",
    " 'price_raw': '449.',\n",
    " 'price_text': '449.',\n",
    " 'price': 449.0,\n",
    " 'metadata': [{'ASIN': 'B0CL5KNB9M'},\n",
    "  {'Release date': 'November 24, 2023'},\n",
    "  {'Customer Reviews': '4.7  4.7 out of 5 stars    \\n    3,538 ratings   \\n\\n\\n 4.7 out of 5 stars'},\n",
    "  {'Best Sellers Rank': '#216 in Video Games (See Top 100 in Video Games)  #2 in PlayStation 5 Consoles'},\n",
    "  {'Product Dimensions': '17 x 15 x 6 inches; 8.9 Pounds'},\n",
    "  {'Type of item': 'Video Game'},\n",
    "  {'Item model number': 'CFI-2000'},\n",
    "  {'Item Weight': '8.9 pounds'},\n",
    "  {'Manufacturer': 'Sony'},\n",
    "  {'Country of Origin': 'China'},\n",
    "  {'Batteries': '1 Lithium Ion batteries required. (included)'},\n",
    "  {'Date First Available': 'November 24, 2023'}],\n",
    " 'description': ' \\n Play Like Never Before. The PS5 Digital Edition unleashes new gaming possibilities that you never anticipated. Experience lightning fast loading with an ultra-high speed SSD, deeper immersion with support for haptic feedback, adaptive triggers, and 3D Audio*,and an all-new generation of incredible PlayStation® games. PS5 Digital Edition is an all-digital version of the PS5 console with no disc drive. Sign into your account for PlayStation Network and go to PlayStation Store to buy and download games (Account for PlayStation Network required). Lightning Speed - Harness the power of a custom CPU, GPU, and SSD with Integrated I/O that rewrite the rules of what a PlayStation console can do. Stunning Games - Marvel at incredible graphics and experience new PS5 features. Play a back catalog of supported PS4 games. Breathtaking Immersion - Discover a deeper gaming experience with support for haptic feedback, adaptive triggers, and 3D Audio technology. *3D audio via built-in TV speakers or analog/USB stereo headphones. Set up and latest system software update required.  ',\n",
    " 'feature_bullets': ' \\n About this item    Model Number CFI-2000    Includes DualSense Wireless Controller, 1TB SSD, 2 Horizontal Stand Feet, HDMI Cable, AC power cord, USB cable, printed materials, ASTRO’s PLAYROOM (Pre-installed game)    Vertical Stand sold seperately    \\n',\n",
    " 'rating': {'average': 4.7, 'count': 3538}}\n",
    "```"
   ]
  },
  {
   "cell_type": "markdown",
   "id": "a2793bd7",
   "metadata": {},
   "source": [
    "```html\n",
    "{'title': 'PlayStation®5 Digital Edition (slim)',\n",
    " 'price_raw': '449.',\n",
    " 'price_text': '449.',\n",
    " 'price': 449.0,\n",
    " 'metadata': [{'ASIN': 'B0CL5KNB9M'},\n",
    "  {'Release date': 'November 24, 2023'},\n",
    "  {'Customer Reviews': '4.7  4.7 out of 5 stars    \\n    3,538 ratings   \\n\\n\\n 4.7 out of 5 stars'},\n",
    "  {'Best Sellers Rank': '#216 in Video Games (See Top 100 in Video Games)  #2 in PlayStation 5 Consoles'},\n",
    "  {'Product Dimensions': '17 x 15 x 6 inches; 8.9 Pounds'},\n",
    "  {'Type of item': 'Video Game'},\n",
    "  {'Item model number': 'CFI-2000'},\n",
    "  {'Item Weight': '8.9 pounds'},\n",
    "  {'Manufacturer': 'Sony'},\n",
    "  {'Country of Origin': 'China'},\n",
    "  {'Batteries': '1 Lithium Ion batteries required. (included)'},\n",
    "  {'Date First Available': 'November 24, 2023'}],\n",
    " 'description': ' \\n Play Like Never Before. The PS5 Digital Edition unleashes new gaming possibilities that you never anticipated. Experience lightning fast loading with an ultra-high speed SSD, deeper immersion with support for haptic feedback, adaptive triggers, and 3D Audio*,and an all-new generation of incredible PlayStation® games. PS5 Digital Edition is an all-digital version of the PS5 console with no disc drive. Sign into your account for PlayStation Network and go to PlayStation Store to buy and download games (Account for PlayStation Network required). Lightning Speed - Harness the power of a custom CPU, GPU, and SSD with Integrated I/O that rewrite the rules of what a PlayStation console can do. Stunning Games - Marvel at incredible graphics and experience new PS5 features. Play a back catalog of supported PS4 games. Breathtaking Immersion - Discover a deeper gaming experience with support for haptic feedback, adaptive triggers, and 3D Audio technology. *3D audio via built-in TV speakers or analog/USB stereo headphones. Set up and latest system software update required.  ',\n",
    " 'feature_bullets': ' \\n About this item    Model Number CFI-2000    Includes DualSense Wireless Controller, 1TB SSD, 2 Horizontal Stand Feet, HDMI Cable, AC power cord, USB cable, printed materials, ASTRO’s PLAYROOM (Pre-installed game)    Vertical Stand sold seperately    \\n',\n",
    " 'rating': {'average': 4.7, 'count': 3538}}\n",
    "```"
   ]
  },
  {
   "cell_type": "code",
   "execution_count": 15,
   "id": "4286b906-0f8d-41ac-83de-4d81a628c853",
   "metadata": {},
   "outputs": [],
   "source": [
    "ProductScrapeEvent.objects.create_scrape_event(data, url=url)"
   ]
  },
  {
   "cell_type": "code",
   "execution_count": 19,
   "id": "ab5817e2-a7a9-476b-898c-1b3447147b03",
   "metadata": {},
   "outputs": [
    {
     "data": {
      "text/plain": [
       "'PlayStation®5 console (slim)'"
      ]
     },
     "execution_count": 19,
     "metadata": {},
     "output_type": "execute_result"
    }
   ],
   "source": [
    "qs = ProductScrapeEvent.objects.all()\n",
    "qs"
   ]
  },
  {
   "cell_type": "code",
   "execution_count": 2,
   "id": "876ac9a4-db9c-44af-b116-d3df5b39a9e3",
   "metadata": {},
   "outputs": [],
   "source": [
    "product_qs = Product.objects.all()\n",
    "product_qs"
   ]
  },
  {
   "cell_type": "code",
   "execution_count": 23,
   "id": "83c565a5-93a5-4162-892c-1be32046c78e",
   "metadata": {},
   "outputs": [
    {
     "data": {
      "text/plain": [
       "'$49.99'"
      ]
     },
     "execution_count": 23,
     "metadata": {},
     "output_type": "execute_result"
    }
   ],
   "source": [
    "data = extract_amazon_product_data(html)\n",
    "data"
   ]
  },
  {
   "cell_type": "markdown",
   "id": "47ad256b-ca45-4b6c-a00b-17bad10c630a",
   "metadata": {},
   "source": []
  },
  {
   "cell_type": "markdown",
   "id": "29a5505a",
   "metadata": {},
   "source": [
    "```html\n",
    "\n",
    "\n",
    "\n",
    "<QuerySet [<Product: Product object (1)>]>\n",
    "\n",
    "\n",
    "```"
   ]
  }
 ],
 "metadata": {
  "kernelspec": {
   "display_name": "Python 3 (ipykernel)",
   "language": "python",
   "name": "python3"
  },
  "language_info": {
   "codemirror_mode": {
    "name": "ipython",
    "version": 3
   },
   "file_extension": ".py",
   "mimetype": "text/x-python",
   "name": "python",
   "nbconvert_exporter": "python",
   "pygments_lexer": "ipython3",
   "version": "3.12.3"
  }
 },
 "nbformat": 4,
 "nbformat_minor": 5
}
