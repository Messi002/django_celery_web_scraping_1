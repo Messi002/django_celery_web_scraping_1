{
 "cells": [
  {
   "cell_type": "code",
   "execution_count": 1,
   "id": "76aa1037-09f3-46fe-8b82-fb19b8b4dcaf",
   "metadata": {},
   "outputs": [
    {
     "name": "stdout",
     "output_type": "stream",
     "text": [
      "/home/mirsquared/Documents/WorkEnv/django_web_scraping/src/nbs\n"
     ]
    }
   ],
   "source": [
    "import setup\n",
    "setup.init_django(project_name='mirhome')"
   ]
  },
  {
   "cell_type": "code",
   "execution_count": 9,
   "id": "d1cfe80a-9f95-44c0-9764-434a50ced5e1",
   "metadata": {},
   "outputs": [],
   "source": [
    "import helpers\n",
    "from products.tasks import scrape_product_url_task, scrape_products_task"
   ]
  },
  {
   "cell_type": "code",
   "execution_count": 10,
   "id": "bec87cca-cd15-4d59-911e-ca117a3960ed",
   "metadata": {},
   "outputs": [],
   "source": [
    "url = \"https://www.amazon.com/PlayStation%C2%AE5-Digital-slim-PlayStation-5/dp/B0CL5KNB9M/ref=sr_1_3?crid=B7GWFZXZ2OED&dib=eyJ2IjoiMSJ9.kgp6If9Ie8zGHwBo-0htBLyQbbKjs5VuqpcJV5opH4mRqQT9y1GDUhgEGC4Ze5c7iOpklu5U3l_vF3hGTmGfZf8jvVY7cSGvtmhRbSth2-wUchP4cPB4bCopxZnBPpqLbX4wU-JZkepl_i4fGdXQJXUMLc256FqdCdlbjr6ZMyFHhWIJq2G38fcfQx3z9RS1e48jNXaYXv1rWtJ3Y30-OZP-ckGz15zF5vR6k6z6G6c.HDrf64xu0Nz7DYLZvUdGglWizRZpAXBxsxbsgsW26Tc&dib_tag=se&keywords=ps5&qid=1709675943&sprefix=ps5%2Caps%2C190&sr=8-3\""
   ]
  },
  {
   "cell_type": "code",
   "execution_count": 11,
   "id": "2abd6605-a5b2-4bd5-97f5-961bf9875070",
   "metadata": {},
   "outputs": [
    {
     "name": "stdout",
     "output_type": "stream",
     "text": [
      "/home/mirsquared/Documents/WorkEnv/django_web_scraping/src\n"
     ]
    }
   ],
   "source": [
    "scrape_product_url_task.delay(url)"
   ]
  },
  {
   "cell_type": "code",
   "execution_count": 12,
   "id": "ccf13d27-086a-4fe9-8e06-590af841e0a4",
   "metadata": {},
   "outputs": [],
   "source": [
    "scrape_products_task.delay()"
   ]
  },
  {
   "cell_type": "code",
   "execution_count": null,
   "id": "b1cea8b1-378e-4c06-b8fa-278878ff1e3d",
   "metadata": {},
   "outputs": [],
   "source": []
  }
 ],
 "metadata": {
  "kernelspec": {
   "display_name": "Python 3 (ipykernel)",
   "language": "python",
   "name": "python3"
  },
  "language_info": {
   "codemirror_mode": {
    "name": "ipython",
    "version": 3
   },
   "file_extension": ".py",
   "mimetype": "text/x-python",
   "name": "python",
   "nbconvert_exporter": "python",
   "pygments_lexer": "ipython3",
   "version": "3.12.3"
  }
 },
 "nbformat": 4,
 "nbformat_minor": 5
}
